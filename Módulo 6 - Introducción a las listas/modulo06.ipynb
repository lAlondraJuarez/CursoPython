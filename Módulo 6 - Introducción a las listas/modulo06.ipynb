{
 "cells": [
  {
   "cell_type": "markdown",
   "metadata": {},
   "source": [
    "# Ejercicio1: Crear y usar listas de Python\n",
    "Ejercicio: Usar listas para almacenar nombres de planetas\n",
    "\n",
    "Las listas permiten almacenar varios valores en una sola variable. Comenzarás un proyecto sobre información planetaria creando una lista de planetas."
   ]
  },
  {
   "cell_type": "code",
   "execution_count": 1,
   "metadata": {},
   "outputs": [
    {
     "name": "stdout",
     "output_type": "stream",
     "text": [
      "Existen  9  planetas en nuestro Sistema Solar\n",
      "Pluton  es el ultimo planeta del Sistema Solar\n"
     ]
    }
   ],
   "source": [
    "# Creamos la lista planets y la mostramos\n",
    "planetas = [\"Mercurio\", \"Venus\", \"Tierra\", \"Marte\", \"Jupiter\", \"Saturno\", \"Uranus\", \"Neptuno\"]\n",
    "\n",
    "# Agregamos a plutón y mostramos el último elemento\n",
    "planetas.append(\"Pluton\")\n",
    "num_planetas = len(planetas)\n",
    "print(\"Existen \", num_planetas, \" planetas en nuestro Sistema Solar\")\n",
    "print(planetas[-1], \" es el ultimo planeta del Sistema Solar\")"
   ]
  },
  {
   "cell_type": "markdown",
   "metadata": {},
   "source": [
    "# Ejercicio 2: Trabajando con datos de una lista\n",
    "\n",
    "Usar slices para recuperar partes de una lista\n",
    "\n",
    "Es posible que debas trabajar con diferentes secciones de una lista. En nuestro ejemplo, queremos mostrar planetas más cerca y más lejos del sol de un planeta que el usuario ingresa por teclado.\n",
    "\n",
    "Comienza agregando el código para crear una lista con los planetas."
   ]
  },
  {
   "cell_type": "code",
   "execution_count": 2,
   "metadata": {},
   "outputs": [
    {
     "name": "stdout",
     "output_type": "stream",
     "text": [
      "El planeta que buscaste es: \n",
      "Planetas mas cercanos aMarte\n",
      "['Mercurio', 'Venus', 'Tierra']\n",
      "Planetas mas lejados a Marte\n",
      "['Jupiter', 'Saturno', 'Uranus', 'Neptuno']\n"
     ]
    }
   ],
   "source": [
    "# Lista de planetas\n",
    "planetas = [\"Mercurio\", \"Venus\", \"Tierra\", \"Marte\", \"Jupiter\", \"Saturno\", \"Uranus\", \"Neptuno\"]\n",
    "\n",
    "# Solicitamos el nombre de un planeta *Pista:  input()*\n",
    "nomplaneta = input(\"Buscar planeta: \\n(Comenzando con Mayusculas)\")\n",
    "\n",
    "# Busca el planeta en la lista\n",
    "buscar_planeta = planetas.index(nomplaneta)\n",
    "print(\"El planeta que buscaste es: \")\n",
    "\n",
    "# Muestra los planetas más cercanos al sol\n",
    "print(\"Planetas mas cercanos a \" + nomplaneta)\n",
    "print(planetas[0:buscar_planeta])\n",
    "\n",
    "# Muestra los planetas más lejanos al sol\n",
    "print(\"Planetas mas lejados a \" + nomplaneta)\n",
    "print(planetas[buscar_planeta + 1:])"
   ]
  }
 ],
 "metadata": {
  "interpreter": {
   "hash": "8e3259f06a9bef18f6c3e453e823f2fc5b085498e1bc5e7cfe713b7089514821"
  },
  "kernelspec": {
   "display_name": "Python 3.10.2 64-bit",
   "language": "python",
   "name": "python3"
  },
  "language_info": {
   "codemirror_mode": {
    "name": "ipython",
    "version": 3
   },
   "file_extension": ".py",
   "mimetype": "text/x-python",
   "name": "python",
   "nbconvert_exporter": "python",
   "pygments_lexer": "ipython3",
   "version": "3.10.2"
  },
  "orig_nbformat": 4
 },
 "nbformat": 4,
 "nbformat_minor": 2
}
