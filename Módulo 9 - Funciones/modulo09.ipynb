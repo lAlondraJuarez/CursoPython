{
 "cells": [
  {
   "cell_type": "markdown",
   "metadata": {},
   "source": [
    "# Ejercicio: Uso de funciones en Python\n",
    "En este ejercicio, construirás un informe de combustible que requiere información de varias ubicaciones de combustible en todo el cohete.\n",
    "\n",
    "Comienza por crear una función que necesite tres lecturas de combustible y devuelva un informe.\n",
    "\n",
    "Ahora que hemos definido la función de informes, vamos a comprobarlo. Para esta misión, los tanques no están llenos.\n",
    "\n",
    "En lugar de simplemente crear el informe, la función también está calculando el promedio. Mejora la legibilidad extrayendo el cálculo promedio de la función en una nueva función para que el promedio se pueda hacer de forma independiente.\n",
    "\n",
    "Ahora actualiza la función de informes para llamando a la nueva función del promedio.\n",
    "\n"
   ]
  },
  {
   "cell_type": "code",
   "execution_count": 1,
   "metadata": {},
   "outputs": [
    {
     "name": "stdout",
     "output_type": "stream",
     "text": [
      "Informe de Combustible:\n",
      "    Promedio Total: 75.33333333333333%\n",
      "    Tanque Principal: 91%\n",
      "    Tanque Externo: 65%\n",
      "    Tanque de Hidrogeno: 70%\n",
      "    \n",
      "Informe de Combustible:\n",
      "    Promedio Total: 75.33333333333333%\n",
      "    Tanque Principal: 91%\n",
      "    Tanque Externo: 65%\n",
      "    Tanque de Hidrogeno: 70%\n",
      "    \n"
     ]
    }
   ],
   "source": [
    "def generar_info(tanque_pri, tanque_ext, tanque_hyd):\n",
    "    promedio_total = (tanque_pri + tanque_ext + tanque_hyd) / 3\n",
    "    return f\"\"\"Informe de Combustible:\n",
    "    Promedio Total: {promedio_total}%\n",
    "    Tanque Principal: {tanque_pri}%\n",
    "    Tanque Externo: {tanque_ext}%\n",
    "    Tanque de Hidrogeno: {tanque_hyd}%\n",
    "    \"\"\"\n",
    "\n",
    "print(generar_info(91, 65, 70))\n",
    "\n",
    "def promedio(valores):\n",
    "    total = sum(valores)\n",
    "    num_elementos = len(valores)\n",
    "    return total / num_elementos\n",
    "\n",
    "promedio([91, 65, 70])\n",
    "\n",
    "def generar_info(tanque_pri, tanque_ext, tanque_hyd):\n",
    "    promedio_total = (tanque_pri + tanque_ext + tanque_hyd) / 3\n",
    "    return f\"\"\"Informe de Combustible:\n",
    "    Promedio Total: {promedio([tanque_pri, tanque_ext, tanque_hyd])}%\n",
    "    Tanque Principal: {tanque_pri}%\n",
    "    Tanque Externo: {tanque_ext}%\n",
    "    Tanque de Hidrogeno: {tanque_hyd}%\n",
    "    \"\"\"\n",
    "print(generar_info(91, 65, 70))\n"
   ]
  },
  {
   "cell_type": "markdown",
   "metadata": {},
   "source": [
    "# Ejercicio 2: Trabajo con argumentos de palabra clave\n",
    "En este ejercicio, construirás un informe de cohete que requiere varias piezas de información, como el tiempo hasta el destino, el combustible a la izquierda y el nombre del destino. Comienza por crear una función que creará un informe preciso de la misión.\n",
    "\n",
    "La función es problemática porque no se puede adaptar para minutos adicionales o tanques adicionales de combustible. Hazlo más flexible permitiendo cualquier número de pasos basados en el tiempo y cualquier número de tanques. En lugar de usar *args y **kwargs, aprovecha el hecho de que puedes usar cualquier nombre que desees. Asegurate que la función sea más legible mediante el uso de nombres de variables que están asociados con las entradas, como *minutes y **fuel_reservoirs.\n",
    "\n",
    "Debido a que el combustible que queda en los tanques es específico de cada tanque, actualiza la función para usar el nombre de cada tanque en el informe."
   ]
  },
  {
   "cell_type": "code",
   "execution_count": 5,
   "metadata": {},
   "outputs": [
    {
     "name": "stdout",
     "output_type": "stream",
     "text": [
      "\n",
      "    Mision a Luna\n",
      "    Tiempo total de viaje: 65 minutos\n",
      "    Total de combutible restante: 500000 galones\n",
      "    \n",
      "\n",
      "    Mision a Luna\n",
      "    Tiempo total de viaje: 65 minutes\n",
      "    Total de combutible restante: 500000\n",
      "    \n",
      "\n",
      "    Mision a Luna\n",
      "    Tiempo total de viaje: 65 minutos\n",
      "    Total de combutible restante: 500000\n",
      "    principal tanque --> 300000 galones restantes\n",
      "externo tanque --> 200000 galones restantes\n",
      "\n"
     ]
    }
   ],
   "source": [
    "def repo_mision(tiem_pv_lanzamiento, tiem_vuelo, destino, tanque_ext, tanque_pri):\n",
    "    return f\"\"\"\n",
    "    Mision a {destino}\n",
    "    Tiempo total de viaje: {tiem_pv_lanzamiento + tiem_vuelo} minutos\n",
    "    Total de combutible restante: {tanque_ext + tanque_pri} galones\n",
    "    \"\"\"\n",
    "\n",
    "print(repo_mision(14, 51, \"Luna\", 200000, 300000))\n",
    "\n",
    "def repo_mision(destino, *minutos, **rese_combustible):\n",
    "    return f\"\"\"\n",
    "    Mision a {destino}\n",
    "    Tiempo total de viaje: {sum(minutos)} minutes\n",
    "    Total de combutible restante: {sum(rese_combustible.values())}\n",
    "    \"\"\"\n",
    "\n",
    "print(repo_mision(\"Luna\", 10, 15, 40, principal=300000, externo=200000))\n",
    "\n",
    "def repo_mision(destino, *minutos, **rese_combustible):\n",
    "    repo_principal = f\"\"\"\n",
    "    Mision a {destino}\n",
    "    Tiempo total de viaje: {sum(minutos)} minutos\n",
    "    Total de combutible restante: {sum(rese_combustible.values())}\n",
    "    \"\"\"\n",
    "    for nom_tanque, galones in rese_combustible.items():\n",
    "        repo_principal += f\"{nom_tanque} tanque --> {galones} galones restantes\\n\"\n",
    "    return repo_principal\n",
    "\n",
    "print(repo_mision(\"Luna\", 10, 15, 40, principal=300000, externo=200000))\n"
   ]
  }
 ],
 "metadata": {
  "interpreter": {
   "hash": "1fba638338d42836ede20d4b344011fc11f60d7ad318d2c1b8aba6a39efe27e9"
  },
  "kernelspec": {
   "display_name": "Python 3.10.2 64-bit (windows store)",
   "language": "python",
   "name": "python3"
  },
  "language_info": {
   "codemirror_mode": {
    "name": "ipython",
    "version": 3
   },
   "file_extension": ".py",
   "mimetype": "text/x-python",
   "name": "python",
   "nbconvert_exporter": "python",
   "pygments_lexer": "ipython3",
   "version": "3.10.2"
  },
  "orig_nbformat": 4
 },
 "nbformat": 4,
 "nbformat_minor": 2
}
